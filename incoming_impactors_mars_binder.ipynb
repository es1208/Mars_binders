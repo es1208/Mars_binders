{
 "cells": [
  {
   "cell_type": "markdown",
   "metadata": {},
   "source": [
    "## Imports"
   ]
  },
  {
   "cell_type": "code",
   "execution_count": 1,
   "metadata": {},
   "outputs": [],
   "source": [
    "import math\n",
    "import numpy as np\n",
    "import scipy\n",
    "from scipy import linalg\n",
    "import scipy.integrate as integ\n",
    "import scipy.stats as stats\n",
    "import numpy as np\n",
    "import astropy.units as u\n",
    "# import glue \n",
    "import matplotlib.pyplot as plt\n",
    "from ipywidgets import interact, interactive, fixed, interact_manual\n",
    "import ipywidgets as widgets\n",
    "from scipy.optimize import minimize"
   ]
  },
  {
   "cell_type": "code",
   "execution_count": 2,
   "metadata": {},
   "outputs": [
    {
     "ename": "SyntaxError",
     "evalue": "invalid syntax (<ipython-input-2-16dff8742d8d>, line 2)",
     "output_type": "error",
     "traceback": [
      "\u001b[0;36m  File \u001b[0;32m\"<ipython-input-2-16dff8742d8d>\"\u001b[0;36m, line \u001b[0;32m2\u001b[0m\n\u001b[0;31m    matplotlib inline\u001b[0m\n\u001b[0m                    ^\u001b[0m\n\u001b[0;31mSyntaxError\u001b[0m\u001b[0;31m:\u001b[0m invalid syntax\n"
     ]
    }
   ],
   "source": [
    "# glue.qglue()\n",
    "matplotlib inline"
   ]
  },
  {
   "cell_type": "markdown",
   "metadata": {},
   "source": [
    "### Choose parameters for Earth or Mars"
   ]
  },
  {
   "cell_type": "markdown",
   "metadata": {},
   "source": [
    "###############FOR EARTH########################"
   ]
  },
  {
   "cell_type": "code",
   "execution_count": 3,
   "metadata": {},
   "outputs": [],
   "source": [
    "KT_TNT_EQUIV = 4.185e12\n",
    "MEAN_IMPACT_VELOCITY = 16700. # EARTH\n",
    "\n",
    "def grav(alt):\n",
    "    G = 6.6726e-11    #N-m2/kg2\n",
    "    M = 5.97237e24      #kg Mass of Earth\n",
    "    mean_rad = 6371000.0\n",
    "        \n",
    "    return G * M / (mean_rad + alt) ** 2\n",
    "\n",
    "def atm_roh(alt):\n",
    "    p0_earth = 1.29\n",
    "    scale_height_earth = 7160.0\n",
    "\n",
    "    return p0_earth * np.exp(-alt / scale_height_earth)\n",
    "\n",
    "def new_alt(alt, angle, dt, v):\n",
    "    dh = np.sin(angle) * dt * v\n",
    "    return alt - dh\n",
    "\n",
    "def rad2mass(rad, pm):\n",
    "    return 4. / 3. * math.pi * (rad)**3 * pm"
   ]
  },
  {
   "cell_type": "markdown",
   "metadata": {},
   "source": [
    "###############FOR MARS########################"
   ]
  },
  {
   "cell_type": "code",
   "execution_count": 4,
   "metadata": {},
   "outputs": [],
   "source": [
    "KT_TNT_EQUIV = 4.185e12\n",
    "MEAN_IMPACT_VELOCITY = 11600 #8750. # MARS\n",
    "\n",
    "def grav(alt):\n",
    "    G = 6.6726e-11    #N-m2/kg2\n",
    "    M = 0.64171e24      #kg Mass of Mars\n",
    "    mean_rad = 3396200.0\n",
    "        \n",
    "    return G * M / (mean_rad + alt) ** 2\n",
    "\n",
    "def atm_roh(alt):\n",
    "    p0_mars = 0.020\n",
    "    scale_height_mars = 10800.0\n",
    "\n",
    "    return p0_mars * np.exp(-alt / scale_height_mars)\n",
    "#     if alt>7000:\n",
    "#         Temp =  -23.4 - 0.00222 * alt  #celcius\n",
    "#     else: # if alt< 7000:\n",
    "#         Temp =  -31 - 0.000998 * alt  #celcius\n",
    "    \n",
    "#     pressure = 0.699 * np.exp(-0.00009 * alt)\n",
    "\n",
    "#     return pressure / (0.1921 * (Temp + 273.1))  # density \n",
    "\n",
    "def new_alt(alt, angle, dt, v):\n",
    "    dh = np.sin(angle) * dt * v\n",
    "    return alt - dh\n",
    "\n",
    "def rad2mass(rad, pm):\n",
    "    return 4. / 3. * math.pi * (rad)**3 * pm"
   ]
  },
  {
   "cell_type": "code",
   "execution_count": 5,
   "metadata": {},
   "outputs": [
    {
     "name": "stdout",
     "output_type": "stream",
     "text": [
      "53044.70832037153\n"
     ]
    }
   ],
   "source": [
    "def mars_height_equivalent(alt):\n",
    "    \n",
    "    p0_earth = 1.29\n",
    "    scale_height_earth = 7160.0\n",
    "    p0_mars = 0.020\n",
    "    scale_height_mars = 10800.0\n",
    "    \n",
    "    \n",
    "    density_earth = p0_earth * np.exp(-alt / scale_height_earth)\n",
    "    alt_mars = -np.log(density_earth / p0_mars) * scale_height_mars\n",
    "    \n",
    "    return alt_mars\n",
    "\n",
    "print(mars_height_equivalent(65000.))"
   ]
  },
  {
   "cell_type": "markdown",
   "metadata": {},
   "source": [
    "### ablation and drag function definitions"
   ]
  },
  {
   "cell_type": "code",
   "execution_count": 6,
   "metadata": {},
   "outputs": [],
   "source": [
    "def ablation_fun(v0, slope, r0, pm, yield_str, ground=0.):\n",
    "    ## assumptions:\n",
    "    ### Drag coefficient\n",
    "    cd = 1.3\n",
    "    \n",
    "    ### Ablation coefficient\n",
    "    sigma = 2.5e-8 # sec2/m2\n",
    "    \n",
    "    ## Start modelling from alt0 (~space)\n",
    "    alt0 = 200000.0\n",
    "    \n",
    "    ## bulk strength equation from collins et al. 2005\n",
    "    #yield_str = pow(10, 2.107+0.0624*pow(pm, 0.5))\n",
    "\n",
    "    ## initiate breakup altitudes\n",
    "    z_break = 0.\n",
    "    z_ab = 0.\n",
    "    z_b = 0.\n",
    "\n",
    "    ## define common drag/ablation equation parameters\n",
    "    ### constant wrt height for velocity\n",
    "    kv = 3/8. * cd / pm \n",
    "    \n",
    "    ### constant wrt height for radius\n",
    "    kr = 1./8 * sigma * cd / pm \n",
    "\n",
    "    # I = 4.07 * cd * H * yield_str / (pm * d * v0**2 * sin(angle))\n",
    "    # z_break = - H * (log(yield_str / (po * v0**2)) + 1.308 - 0.314 * I - 1.303 * np.sqrt(1 - I))\n",
    "    \n",
    "    ## mass for a sphere from volume and density\n",
    "    m = 4. / 3. * math.pi * (r0)**3 * pm\n",
    "    \n",
    "    ## energy given as kinetic energy\n",
    "    energy_0 = 0.5 * m * v0**2\n",
    "    \n",
    "    ## integration height range to be considered\n",
    "    alt_range = [alt0, z_break]\n",
    "    calc_alts=np.r_[alt0:ground:-100]\n",
    "    \n",
    "    ## parameters to be passed to integration:\n",
    "    ### initialisation of state before hitting the atmosphere \n",
    "    ### [initial velocity, initial radius, initial energy, incoming angle]\n",
    "    s_angle = np.sin(slope * u.deg)\n",
    "    X = np.array([v0, r0,  energy_0, s_angle])\n",
    "    X_all = np.array([v0, r0,  energy_0, s_angle, alt0])\n",
    "\n",
    "    ### constants and meteoroid density\n",
    "    param = [kv, kr, pm]\n",
    "    \n",
    "    ## start integration. Stop when hits ground, when smaller than 1 mm diam or reach breakup altitude\n",
    "    i = 1\n",
    "\n",
    "    while i<len(calc_alts) and X[1]>5e-4 and calc_alts[i] > z_break:    \n",
    "\n",
    "        ode_out = scipy.integrate.odeint(integrals_abl, X, [calc_alts[i-1], calc_alts[i]],  args = (param,)) \n",
    "        \n",
    "        X = ode_out[1]\n",
    "\n",
    "        ## calculate head pressure body is exerted to \n",
    "        z_test = atm_roh(calc_alts[i]) * X[0]**2\n",
    "\n",
    "        ## test if the bulk strength of body is exceeded by head pressure. \n",
    "        ## set z_break to current altitude \n",
    "        if z_test>=yield_str:\n",
    "            z_break = (calc_alts[i-1]+calc_alts[i])/2.0\n",
    "        elif X[1] < 5e-4:\n",
    "            z_ab = calc_alts[i]\n",
    "        \n",
    "        save_row = np.hstack((X, calc_alts[i]))\n",
    "        X_all = np.vstack((X_all, save_row))\n",
    "                    \n",
    "        i+= 1\n",
    "        \n",
    "    ## final state pulled from integration\n",
    "    [v, r, energy, s_angle] = X\n",
    "    slope = np.arcsin(s_angle) * u.rad\n",
    "    ## mass for a sphere from volume and density\n",
    "    m = 4. / 3. * math.pi * (r)**3 * pm\n",
    "\n",
    "\n",
    "    return [v,                            # velocity\n",
    "           r,                            # radius\n",
    "           energy,                       # final energy\n",
    "           slope.to(u.degree),                        # final flight angle\n",
    "           z_break,                      # bbreakup altitude\n",
    "           None,#energy / energy_0,            # final / initial energy\n",
    "           None,#v / v0,                       # final / initial velocity\n",
    "           None,#r / r0,                    # final / initial diametre\n",
    "           m,\n",
    "           0.5 * m * v**2,\n",
    "           X_all]\n"
   ]
  },
  {
   "cell_type": "code",
   "execution_count": 7,
   "metadata": {},
   "outputs": [],
   "source": [
    "## define the function to integrate wrt height\n",
    "def integrals_abl(X, h, param): \n",
    "    [kv, kr, pm] = param\n",
    "    g = grav(h)\n",
    "    [v, rad, energy, s_angle] = X\n",
    "\n",
    "    m = rad2mass(rad, pm)\n",
    "\n",
    "    Xdot=[0., 0., 0., 0.] \n",
    "    \n",
    "    #dv/dh\n",
    "    Xdot[0] = kv * atm_roh(h) * v / (rad * s_angle) - g / v\n",
    "    #dr/dh\n",
    "    Xdot[1] = kr * atm_roh(h) * v**2 / (s_angle)\n",
    "    #dE/dh\n",
    "    Xdot[2] = math.pi * pm * (2 * rad**2 * v**2 * Xdot[1] + 4/3. * rad**3 * v * Xdot[0]) #v**2 * m * v * Xdot[0]    \n",
    "    #d_angle/dh\n",
    "    Xdot[3] = -g / v**2 * (1 - s_angle**2) / s_angle\n",
    "\n",
    "    return Xdot "
   ]
  },
  {
   "cell_type": "code",
   "execution_count": 8,
   "metadata": {},
   "outputs": [],
   "source": [
    "## other useful conversion functions\n",
    "\n",
    "def energy_t_TNT_to_diameter(energy_kT_TNT, density):\n",
    "    mass = energy_t_TNT_to_mass(energy_kT_TNT)\n",
    "    volume = mass / density\n",
    "    diameter = (3. / 4. * volume / math.pi)**(1./3.) * 2\n",
    "    return diameter\n",
    "\n",
    "\n",
    "def energy_t_TNT_to_mass(energy_kT_TNT):\n",
    "    energy_J = energy_kT_TNT * KT_TNT_EQUIV\n",
    "    mass = energy_J * 2 / MEAN_IMPACT_VELOCITY**2\n",
    "    return mass\n",
    "\n",
    "## define the crater scaling from diameter to energy from Teanby et al. 2011\n",
    "def teanby_2011_eq_1(D, estimate='nominal'):\n",
    "    a = 8.8e-3\n",
    "    b = 0.32\n",
    "    if estimate=='nominal':\n",
    "        pass\n",
    "    elif estimate=='hi':\n",
    "        a += -3.5e-3\n",
    "        b += -0.01\n",
    "    elif estimate=='lo':\n",
    "        a += 2.6e-3\n",
    "        b += 0.01\n",
    "    else:\n",
    "        raise ValueError('estimate')\n",
    "    \n",
    "    E = (D/a)**(1/b)\n",
    "    return E/KT_TNT_EQUIV"
   ]
  },
  {
   "cell_type": "markdown",
   "metadata": {},
   "source": [
    "#### Functions for optimisation of diameter for a given crater size"
   ]
  },
  {
   "cell_type": "code",
   "execution_count": 49,
   "metadata": {},
   "outputs": [],
   "source": [
    "\n",
    "def min_fun(r, energy, v0, slope, density, strength):\n",
    "    \"\"\"function to minimise is simply difference between impact energy calculated \n",
    "    and impact energy required to create your crater size\"\"\"\n",
    "    out = ablation_fun(v0, slope, r[0], density, strength)\n",
    "    energy2 = out[9] / KT_TNT_EQUIV\n",
    "    \n",
    "    return abs(energy2 - energy)/energy\n",
    "\n",
    "def opt_impactor_rad(v0, slope, density, yeild_str, D):\n",
    "    \"\"\" uses min_fun to determine optimum radius required to give your desired crater diameter D\"\"\"\n",
    "    bodies = []\n",
    "    required_mass = []\n",
    "    required_energy = []\n",
    "    impactor_final_d = []\n",
    "    \n",
    "    for estimate in ['nominal','hi','lo']:\n",
    "        crater_diameter = D\n",
    "        impactor_energy = teanby_2011_eq_1(crater_diameter,estimate=estimate)\n",
    "        impactor_mass = energy_t_TNT_to_mass(impactor_energy)\n",
    "        impactor_radius = energy_t_TNT_to_diameter(impactor_energy, density) / 2.\n",
    "        \n",
    "        args = (impactor_energy , v0, slope, density, yeild_str)\n",
    "\n",
    "        min_out = scipy.optimize.root(min_fun, [0.5],args=args )#, method='L-BFGS-B',args=args, bounds=((0,1),), options={'maxiter':50},tol=1e-7)\n",
    "        r = min_out.x \n",
    "        m = 4. / 3. * math.pi * (r[0])**3 * density\n",
    "        E0 = (0.5 * rad2mass(r[0], density)*v0**2 /KT_TNT_EQUIV)\n",
    "        \n",
    "        out = ablation_fun(v0, slope, r[0], density, yeild_str)\n",
    "    \n",
    "        if out[4]>0:\n",
    "            print(f\" /!\\ Warning, for the given body strength, the {estimate} required impactor would break up at {out[4]} m altitude, and not make a crater on the ground!\\n Try changing body strengths\")\n",
    "        \n",
    "        else:\n",
    "            print(f'===============\\n{estimate} estimate: {crater_diameter:.1f} m crater on Mars \\n requires an impact energy of {impactor_energy:.3e} kt TNT\\n This corresponds to an impactor mass at ground level of {impactor_mass:.2f} kg \\n This corresponds to an impactor radius of {impactor_radius:.2f} m')\n",
    "            print('\\n Now we will look at what size body this would correspond to at the top of the atmosphere')\n",
    "\n",
    "            print(f\" incoming body parameters: \\n  radius: {r[0]:.2f} m, \\n  initial mass: {m:.2f},\\n  initial velocity (given): {v0:.0f} m/s,\\n  initial energy: {E0:.3e},\\n\\n  which would have a final impact velocity of {out[0]:.0f} m/s, \\n  and final impact energy of {out[9]/KT_TNT_EQUIV:.3e}\\n\")\n",
    "        \n",
    "        \n"
   ]
  },
  {
   "cell_type": "markdown",
   "metadata": {},
   "source": [
    "defining a class for impacting meteoroid bodies that allows us to query mass/radius/diameter\n"
   ]
  },
  {
   "cell_type": "markdown",
   "metadata": {},
   "source": [
    "## have a play with numbers"
   ]
  },
  {
   "cell_type": "code",
   "execution_count": null,
   "metadata": {},
   "outputs": [],
   "source": []
  },
  {
   "cell_type": "code",
   "execution_count": 51,
   "metadata": {},
   "outputs": [
    {
     "name": "stdout",
     "output_type": "stream",
     "text": [
      "select below from: \n",
      "\n",
      "initial velocity (v0) - m/s, \n",
      "entry angle from horizontal - degrees, \n",
      "impactor density -kg/m3, \n",
      "impactor bulk strength - MPa, \n",
      "crater diameter to compare to - m\n",
      "\n",
      "This optimisation may take a few seconds to run, be patient\n"
     ]
    },
    {
     "data": {
      "application/vnd.jupyter.widget-view+json": {
       "model_id": "06bba36d6bcb417d90a1ea79671cc016",
       "version_major": 2,
       "version_minor": 0
      },
      "text/plain": [
       "interactive(children=(FloatSlider(value=11600.0, description='v0', max=12200.0, min=11000.0, step=200.0), Drop…"
      ]
     },
     "metadata": {},
     "output_type": "display_data"
    },
    {
     "data": {
      "text/plain": [
       "<function __main__.impactor_size_from_craterD(v0, slope, density, bulk_strength, D)>"
      ]
     },
     "execution_count": 51,
     "metadata": {},
     "output_type": "execute_result"
    }
   ],
   "source": [
    "plt.close()\n",
    "print(\"select below from: \\n\\ninitial velocity (v0) - m/s, \\nentry angle from horizontal - degrees, \\nimpactor density -kg/m3, \\nimpactor bulk strength - MPa, \\ncrater diameter to compare to - m\")\n",
    "print(\"\\nThis optimisation may take a few seconds to run, be patient\")\n",
    "def impactor_size_from_craterD(v0, slope, density, bulk_strength, D):\n",
    "    bulk_strength *= 1e6\n",
    "\n",
    "    opt_impactor_rad(v0, slope, density, bulk_strength, D)\n",
    "\n",
    "interact(impactor_size_from_craterD, v0=(11000.,12200., 200.), slope=[10, 30, 45, 60, 90], density=[2200, 3000, 3500], bulk_strength=[0.1, 1, 10, 100], D=(0.5, 50, 1))\n"
   ]
  },
  {
   "cell_type": "code",
   "execution_count": null,
   "metadata": {},
   "outputs": [],
   "source": []
  },
  {
   "cell_type": "markdown",
   "metadata": {},
   "source": [
    "### interactive energies and diameters for your choice of entry body diametre"
   ]
  },
  {
   "cell_type": "code",
   "execution_count": 61,
   "metadata": {},
   "outputs": [
    {
     "name": "stdout",
     "output_type": "stream",
     "text": [
      "select below from: \n",
      "v0      - initial velocity     - m/s\n",
      "slope   - entry angle from horizontal - degrees, \n",
      "density of incoming body       - kg/m3, \n",
      "diametre of incoming body      - m, \n",
      "bulk strength of incoming body - MPa\n"
     ]
    },
    {
     "data": {
      "application/vnd.jupyter.widget-view+json": {
       "model_id": "8873d9ad6d5d4a3f9c591b568b6a9298",
       "version_major": 2,
       "version_minor": 0
      },
      "text/plain": [
       "interactive(children=(FloatSlider(value=11600.0, description='v0', max=12200.0, min=11000.0, step=200.0), Drop…"
      ]
     },
     "metadata": {},
     "output_type": "display_data"
    },
    {
     "data": {
      "text/plain": [
       "<function __main__.impactor_rad(v0, slope, density, diametre, bulk_strength)>"
      ]
     },
     "execution_count": 61,
     "metadata": {},
     "output_type": "execute_result"
    }
   ],
   "source": [
    "plt.close()\n",
    "print(\"select below from: \")\n",
    "print(\"v0      - initial velocity            - m/s\")\n",
    "print(\"slope   - entry angle from horizontal - degrees, \")\n",
    "print(\"density of incoming body              - kg/m3, \")\n",
    "print(\"diametre of incoming body             - m, \")\n",
    "print(\"bulk strength of incoming body        - MPa\")\n",
    "def impactor_rad(v0, slope, density, diametre, bulk_strength):\n",
    "    bulk_strength *= 1e6\n",
    "\n",
    "    r0 = diametre/2. \n",
    "    m0 = 4. / 3. * math.pi * (r0)**3 * density\n",
    "   \n",
    "    out = ablation_fun(v0, slope, r0, density, bulk_strength)\n",
    "    \n",
    "    ## what crater size?\n",
    "    a = 8.8e-3\n",
    "    b = 0.32\n",
    "    D_nom = (out[2]**b * a) \n",
    "    D_hi = out[2]**(b + 0.01) * (a +  2.6e-3) \n",
    "    D_lo = out[2]**(b - 0.01) * (a - 3.5e-3) \n",
    "    impact_diam = out[1] *2\n",
    "\n",
    "    print(f\"entry body radius = {r0}, diameter={diametre}\")\n",
    "    print(f\"entry velocity={v0/1000.:.2f} km/s\")\n",
    "    print(f\"entry diametre={diametre:.2f} m\")\n",
    "    print(f\"entry mass={m0:.2f}\")\n",
    "    print(f\"entry energy={0.5 * m0 * v0**2:.2e} J   or    {0.5 * m0 * v0**2 /KT_TNT_EQUIV:.2e} ktTNT\")\n",
    "    print(f\"\\nimpact velocity={out[0]/1000.:.2f} km/s\")\n",
    "    print(f\"impact mass={out[8]:.2f} kg\")\n",
    "    print(f\"impact diametre={impact_diam:.2f} m\")\n",
    "    print(f\"impact energy={out[2]:.2e} J    or    {out[2] /KT_TNT_EQUIV:.2e} ktTNT\")\n",
    "    print(f\"\\nimpact flight angle={out[3]:.2f} degrees\")\n",
    "    print(f\"breakup altitude={out[4]:.2f} m\")\n",
    "    print(f\"\\nNominal crater diameter={D_nom:.2f} m\")\n",
    "    print(f\"Upper crater diameter={D_hi:.2f} m\")\n",
    "    print(f\"Lower crater diameter={D_lo:.2f} m\")\n",
    "        \n",
    "    ## use drag only, no ablation:\n",
    "#     out = drag_fun(v0, slope, r, density, strength)\n",
    "\n",
    "interact(impactor_rad, v0=(11000.,12200., 200.), slope=[10, 30, 45, 60, 90], density=[2200, 3000, 3500], diametre=(0.01, .6, 0.01), bulk_strength=[0.1, 1, 10, 100])"
   ]
  },
  {
   "cell_type": "markdown",
   "metadata": {},
   "source": [
    "### interactive energies and diameters for your choice of entry body mass"
   ]
  },
  {
   "cell_type": "code",
   "execution_count": 70,
   "metadata": {
    "scrolled": false
   },
   "outputs": [
    {
     "name": "stdout",
     "output_type": "stream",
     "text": [
      "select below from: \n",
      "v0      - initial velocity            - m/s\n",
      "slope   - entry angle from horizontal - degrees, \n",
      "density of incoming body              - kg/m3, \n",
      "mass of incoming body                 - kg, \n",
      "bulk strength of incoming body        - MPa\n"
     ]
    },
    {
     "data": {
      "application/vnd.jupyter.widget-view+json": {
       "model_id": "8fd8141a899c479e931895df1f1803e2",
       "version_major": 2,
       "version_minor": 0
      },
      "text/plain": [
       "interactive(children=(FloatSlider(value=11600.0, description='v0', max=12200.0, min=11000.0, step=200.0), IntS…"
      ]
     },
     "metadata": {},
     "output_type": "display_data"
    },
    {
     "data": {
      "text/plain": [
       "<function __main__.impactor_mass(v0, slope, density, mass, bulk_strength, D)>"
      ]
     },
     "execution_count": 70,
     "metadata": {},
     "output_type": "execute_result"
    }
   ],
   "source": [
    "plt.close()\n",
    "print(\"select below from: \")\n",
    "print(\"v0      - initial velocity            - m/s\")\n",
    "print(\"slope   - entry angle from horizontal - degrees, \")\n",
    "print(\"density of incoming body              - kg/m3, \")\n",
    "print(\"mass of incoming body                 - kg, \")\n",
    "print(\"bulk strength of incoming body        - MPa\")\n",
    "\n",
    "def impactor_mass(v0, slope, density, mass, bulk_strength, D):\n",
    "   ## mass for a sphere from volume and density\n",
    "    r0 = (mass*u.kg / (density*u.kg/u.m**3) * 3./(4. * math.pi))**(1/3.)\n",
    "    E0 = 0.5 * mass*u.kg * (v0 * u.m /u.s)**2 / KT_TNT_EQUIV\n",
    "    diametre = r0*2.     \n",
    "\n",
    "    out = ablation_fun(v0, slope, r0.value, density, bulk_strength)\n",
    "    \n",
    "    ## what crater size?\n",
    "    a = 8.8e-3\n",
    "    b = 0.32\n",
    "    D_nom = (out[2]**b * a) \n",
    "    D_hi = out[2]**(b + 0.01) * (a +  2.6e-3) \n",
    "    D_lo = out[2]**(b - 0.01) * (a - 3.5e-3) \n",
    "    impact_diam = out[1] *2\n",
    "\n",
    "    print(f\"entry body mass = {mass:.2f} kg\")\n",
    "    print(f\"entry velocity ={v0/1000.:.2f} km/s\")\n",
    "    print(f\"entry diametre ={diametre:.2f}\")\n",
    "    print(f\"entry radius = {r0:.2f}, diameter={diametre:.2f}\")\n",
    "    print(f\"entry energy = {0.5 * mass * v0**2:.3e} J   or {E0.value:.3e} ktTNT\")\n",
    "    print(f\"\\nimpact velocity ={out[0]/1000.:.2f} km/s\")\n",
    "    print(f\"impact mass = {out[8]:.2f} kg\")\n",
    "    print(f\"impact diametre = {impact_diam:.2f} m\")\n",
    "    print(f\"impact energy = {out[2]:.3e} J    or    {out[2] /KT_TNT_EQUIV:.3e} ktTNT\")\n",
    "    print(f\"\\nimpact flight angle = {out[3]:.2f} degrees\")\n",
    "    print(f\"breakup altitude = {out[4]:.2f} m\")\n",
    "    print(f\"\\nNominal crater diameter = {D_nom:.2f} m\")\n",
    "    print(f\"Upper crater diameter = {D_hi:.2f} m\")\n",
    "    print(f\"Lower crater diameter = {D_lo:.2f} m\")\n",
    "    \n",
    "interact(impactor_mass, v0=(11000.,12200., 200.), slope=45, density=[3000,3500], mass=1.5, bulk_strength=1e6, D=1.5)"
   ]
  },
  {
   "cell_type": "markdown",
   "metadata": {},
   "source": [
    "## Plotting stuff"
   ]
  },
  {
   "cell_type": "code",
   "execution_count": 71,
   "metadata": {},
   "outputs": [
    {
     "name": "stdout",
     "output_type": "stream",
     "text": [
      "[0.01 0.11 0.21 0.31 0.41 0.51 0.61 0.71 0.81 0.91 1.01 1.11 1.21 1.31\n",
      " 1.41]\n"
     ]
    },
    {
     "data": {
      "text/plain": [
       "<matplotlib.legend.Legend at 0x7f8cf4c8e510>"
      ]
     },
     "execution_count": 71,
     "metadata": {},
     "output_type": "execute_result"
    },
    {
     "data": {
      "image/png": "[encoded data removed]",
      "text/plain": [
       "<Figure size 432x288 with 1 Axes>"
      ]
     },
     "metadata": {
      "needs_background": "light"
     },
     "output_type": "display_data"
    }
   ],
   "source": [
    "v0 = 11600.\n",
    "slope = 45.\n",
    "density = 2800.\n",
    "bulk_strength = 10e6\n",
    "diams = np.arange(0.01, 1.5, 0.1)\n",
    "entry_mass = []\n",
    "end_diams = []\n",
    "end_mass = []\n",
    "print(diams)\n",
    "diam_to_craterD = np.zeros((3, len(diams)))\n",
    "for i in range(len(diams)):\n",
    "    diametre = diams[i]\n",
    "    r0 = diametre/2.        \n",
    "    out = ablation_fun(v0, slope, r0, density, bulk_strength)\n",
    "    \n",
    "    ## what crater size?\n",
    "    a = 8.8e-3\n",
    "    b = 0.32\n",
    "    D_nom = (out[2]**b * a) \n",
    "    D_hi = out[2]**(b + 0.01) * (a +  2.6e-3) \n",
    "    D_lo = out[2]**(b - 0.01) * (a - 3.5e-3) \n",
    "    impact_diam = out[1] *2\n",
    "   \n",
    "    diam_to_craterD[:, i] = [D_nom, D_hi, D_lo]\n",
    "    end_diams.append(impact_diam)\n",
    "    entry_mass.append(density * 4./3 * math.pi * r0**3)\n",
    "    end_mass.append(density * 4./3 * math.pi * (impact_diam/2)**3)\n",
    "\n",
    "plt.plot(diams*100, diam_to_craterD[0, :], label='nominal' )\n",
    "plt.plot(diams*100, diam_to_craterD[1, :], label='hi' )\n",
    "plt.plot(diams*100, diam_to_craterD[2, :], label='lo' )\n",
    "plt.ylim(0,20)\n",
    "plt.legend()\n",
    "# plt.plot(entry_mass, diam_to_craterD[0, :], label='nominal' )\n",
    "# plt.plot(entry_mass, diam_to_craterD[1, :], label='hi' )\n",
    "# plt.plot(entry_mass, diam_to_craterD[2, :], label='lo' )\n",
    "# plt.legend()"
   ]
  },
  {
   "cell_type": "code",
   "execution_count": null,
   "metadata": {},
   "outputs": [],
   "source": []
  },
  {
   "cell_type": "code",
   "execution_count": null,
   "metadata": {},
   "outputs": [],
   "source": []
  }
 ],
 "metadata": {
  "kernelspec": {
   "display_name": "Python 3",
   "language": "python",
   "name": "python3"
  },
  "language_info": {
   "codemirror_mode": {
    "name": "ipython",
    "version": 3
   },
   "file_extension": ".py",
   "mimetype": "text/x-python",
   "name": "python",
   "nbconvert_exporter": "python",
   "pygments_lexer": "ipython3",
   "version": "3.7.8"
  }
 },
 "nbformat": 4,
 "nbformat_minor": 2
}
